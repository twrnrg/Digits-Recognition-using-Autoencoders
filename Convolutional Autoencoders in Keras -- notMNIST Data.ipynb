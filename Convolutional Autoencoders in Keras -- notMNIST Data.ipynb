{
  "nbformat": 4,
  "nbformat_minor": 0,
  "metadata": {
    "colab": {
      "name": "Convolutional Autoencoders in Keras -- notMNIST Data.ipynb",
      "version": "0.3.2",
      "provenance": [],
      "collapsed_sections": []
    },
    "language_info": {
      "codemirror_mode": {
        "name": "ipython",
        "version": 3
      },
      "file_extension": ".py",
      "mimetype": "text/x-python",
      "name": "python",
      "nbconvert_exporter": "python",
      "pygments_lexer": "ipython3",
      "version": "3.7.3"
    },
    "kernelspec": {
      "name": "python3",
      "display_name": "Python 3"
    },
    "accelerator": "GPU"
  },
  "cells": [
    {
      "cell_type": "code",
      "metadata": {
        "id": "JNRH6LoGlGci",
        "colab_type": "code",
        "colab": {}
      },
      "source": [
        "import keras\n",
        "from matplotlib import pyplot as plt\n",
        "import numpy as np\n",
        "import gzip\n",
        "%matplotlib inline\n",
        "from keras.layers import Input, Conv2D, MaxPooling2D, UpSampling2D\n",
        "from keras.models import Model\n",
        "from keras.optimizers import RMSprop\n",
        "from time import time"
      ],
      "execution_count": 0,
      "outputs": []
    },
    {
      "cell_type": "code",
      "metadata": {
        "id": "XJze1kXclz8E",
        "colab_type": "code",
        "outputId": "72e131f6-5993-4fbe-82b8-54f0de1af9bf",
        "colab": {
          "base_uri": "https://localhost:8080/",
          "height": 114
        }
      },
      "source": [
        "! git clone https://github.com/davidflanagan/notMNIST-to-MNIST"
      ],
      "execution_count": 5,
      "outputs": [
        {
          "output_type": "stream",
          "text": [
            "Cloning into 'notMNIST-to-MNIST'...\n",
            "remote: Enumerating objects: 22, done.\u001b[K\n",
            "remote: Total 22 (delta 0), reused 0 (delta 0), pack-reused 22\u001b[K\n",
            "Unpacking objects: 100% (22/22), done.\n"
          ],
          "name": "stdout"
        }
      ]
    },
    {
      "cell_type": "code",
      "metadata": {
        "id": "HfkDB__rlGcv",
        "colab_type": "code",
        "colab": {}
      },
      "source": [
        "#Define a function to open gzip file\n",
        "#Reads the file using bytestream.read()\n",
        "#Using  np.frombuffer(), convert the string stored in \n",
        "#variable buf into a NumPy array of type float32\n",
        "#Reshape the array in a 3D array\n",
        "#First dimension is number of images, and the second and third being dimension of image"
      ],
      "execution_count": 0,
      "outputs": []
    },
    {
      "cell_type": "code",
      "metadata": {
        "id": "nJW7znnglGc1",
        "colab_type": "code",
        "colab": {}
      },
      "source": [
        "def extract_data(filename, num_images):\n",
        "    with gzip.open(filename) as bytestream:\n",
        "        bytestream.read(16)\n",
        "        buf = bytestream.read(28 * 28 * num_images)\n",
        "        data = np.frombuffer(buf, dtype=np.uint8).astype(np.float32)\n",
        "        data = data.reshape(num_images, 28, 28)\n",
        "        return data\n",
        "    \n",
        "train_data = extract_data('notMNIST-to-MNIST/train-images-idx3-ubyte.gz', 60000)\n",
        "test_data = extract_data('notMNIST-to-MNIST/t10k-images-idx3-ubyte.gz', 10000)\n",
        "    "
      ],
      "execution_count": 0,
      "outputs": []
    },
    {
      "cell_type": "code",
      "metadata": {
        "id": "XH10ygb9lGc6",
        "colab_type": "code",
        "colab": {}
      },
      "source": [
        "#Define a extract labels function that open labels files\n",
        "\n",
        "def extract_labels(filename, num_images):\n",
        "    with gzip.open(filename) as bytestream:\n",
        "        bytestream.read(8)\n",
        "        buf = bytestream.read(1 * num_images)\n",
        "        labels = np.frombuffer(buf, dtype = np.uint8).astype(np.int64)\n",
        "        return labels\n",
        "    \n",
        "train_labels = extract_labels('notMNIST-to-MNIST/train-labels-idx1-ubyte.gz', 60000)\n",
        "test_labels = extract_labels('notMNIST-to-MNIST/t10k-labels-idx1-ubyte.gz', 10000)"
      ],
      "execution_count": 0,
      "outputs": []
    },
    {
      "cell_type": "code",
      "metadata": {
        "id": "beSlWSlglGc-",
        "colab_type": "code",
        "outputId": "dc991c54-f420-4342-e88f-48afdde046f3",
        "colab": {
          "base_uri": "https://localhost:8080/",
          "height": 51
        }
      },
      "source": [
        "print(\"Training set (images) shape :{}\".format(train_data.shape))\n",
        "print(\"Test set (images) shape:{}\".format(test_data.shape))"
      ],
      "execution_count": 9,
      "outputs": [
        {
          "output_type": "stream",
          "text": [
            "Training set (images) shape :(60000, 28, 28)\n",
            "Test set (images) shape:(10000, 28, 28)\n"
          ],
          "name": "stdout"
        }
      ]
    },
    {
      "cell_type": "code",
      "metadata": {
        "id": "uPrrRGRclGdD",
        "colab_type": "code",
        "colab": {}
      },
      "source": [
        "# Create dictionary of target classes\n",
        "label_dict = {\n",
        "    0: 'A',\n",
        "    1: 'B',\n",
        "    2: 'C',\n",
        "    3: 'D',\n",
        "    4: 'E',\n",
        "    5: 'F',\n",
        "    6: 'G',\n",
        "    7: 'H',\n",
        "    8: 'I',\n",
        "    9: 'J',\n",
        "}"
      ],
      "execution_count": 0,
      "outputs": []
    },
    {
      "cell_type": "code",
      "metadata": {
        "id": "Cw2q1IE6lGdI",
        "colab_type": "code",
        "outputId": "9d88ce60-9ebc-4311-83f7-3a3ad59f8780",
        "colab": {
          "base_uri": "https://localhost:8080/",
          "height": 208
        }
      },
      "source": [
        "plt.figure(figsize = [5,5])\n",
        "plt.subplot(121)\n",
        "curr_img = np.reshape(train_data[0], (28,28))\n",
        "curr_lbl = train_labels[0]\n",
        "plt.imshow(curr_img, cmap = 'gray')\n",
        "plt.title(\"(Label : \" + str(label_dict[curr_lbl]) +\")\")"
      ],
      "execution_count": 11,
      "outputs": [
        {
          "output_type": "execute_result",
          "data": {
            "text/plain": [
              "Text(0.5, 1.0, '(Label : F)')"
            ]
          },
          "metadata": {
            "tags": []
          },
          "execution_count": 11
        },
        {
          "output_type": "display_data",
          "data": {
            "image/png": "[encoded data removed]",
            "text/plain": [
              "<Figure size 360x360 with 1 Axes>"
            ]
          },
          "metadata": {
            "tags": []
          }
        }
      ]
    },
    {
      "cell_type": "markdown",
      "metadata": {
        "id": "5g8q8CEFlGdL",
        "colab_type": "text"
      },
      "source": [
        "# Data Preprocessing"
      ]
    },
    {
      "cell_type": "code",
      "metadata": {
        "id": "l5L0zW_FlGdM",
        "colab_type": "code",
        "colab": {}
      },
      "source": [
        "#Convert each image of test and train into dimension of 28*28*1 to feed into network\n",
        "#Normalize (Resclae) the data\n",
        "\n",
        "train_data = train_data.reshape(-1, 28, 28, 1)\n",
        "test_data = test_data.reshape(-1, 28, 28, 1)\n",
        "\n",
        "train_data = train_data/np.max(train_data)\n",
        "test_data = test_data/np.max(test_data)"
      ],
      "execution_count": 0,
      "outputs": []
    },
    {
      "cell_type": "code",
      "metadata": {
        "id": "aGbLFEJ6lGdS",
        "colab_type": "code",
        "outputId": "ebda163e-14a9-4ca1-d081-1414bcb47b90",
        "colab": {
          "base_uri": "https://localhost:8080/",
          "height": 51
        }
      },
      "source": [
        "print(train_data.shape)\n",
        "print(np.max(test_data))"
      ],
      "execution_count": 13,
      "outputs": [
        {
          "output_type": "stream",
          "text": [
            "(60000, 28, 28, 1)\n",
            "1.0\n"
          ],
          "name": "stdout"
        }
      ]
    },
    {
      "cell_type": "code",
      "metadata": {
        "id": "LuJZNmHelGdV",
        "colab_type": "code",
        "colab": {}
      },
      "source": [
        "from sklearn.model_selection import train_test_split\n",
        "train_x, valid_x, train_ground, valid_ground = train_test_split(train_data,\n",
        "                                                               train_data, test_size=0.2, random_state=1)"
      ],
      "execution_count": 0,
      "outputs": []
    },
    {
      "cell_type": "code",
      "metadata": {
        "id": "NCbzUGSBlGdc",
        "colab_type": "code",
        "colab": {}
      },
      "source": [
        "#Note : We don't need training and testing labels\n",
        "# That's why we'll pass the training images twice\n",
        "#Training image will bith act as the input as well as the \n",
        "#ground truth similar to the labels we have in classification task\n"
      ],
      "execution_count": 0,
      "outputs": []
    },
    {
      "cell_type": "markdown",
      "metadata": {
        "id": "-y_yp6t3lGde",
        "colab_type": "text"
      },
      "source": [
        "# The Convolutional Encoder"
      ]
    },
    {
      "cell_type": "code",
      "metadata": {
        "id": "dlfCaOcLlGdf",
        "colab_type": "code",
        "colab": {}
      },
      "source": [
        "batch_size = 128\n",
        "epochs = 50\n",
        "inChannel = 1\n",
        "x, y = 28, 28\n",
        "input_img = Input(shape = (x, y, inChannel))"
      ],
      "execution_count": 0,
      "outputs": []
    },
    {
      "cell_type": "markdown",
      "metadata": {
        "id": "540pXKyhlGdh",
        "colab_type": "text"
      },
      "source": [
        "# Encoder\n",
        "\n",
        "The first layer will have 32 - 3*3 filters followed by a downsampling (max-pooling) layer\n",
        "The second layer will have 64 filters of 3*3 followed by another downsampling layer\n",
        "The final layer of encoder will have 128 filters of 3*3"
      ]
    },
    {
      "cell_type": "markdown",
      "metadata": {
        "id": "G5yrmAgdlGdh",
        "colab_type": "text"
      },
      "source": [
        "# Decoder\n",
        "\n",
        "The first layer will have 128 filters of 3*3 followed by a upsampling layer\n",
        "The second layer will have 64 filters of 3*3 followed by another upsampling layer\n",
        "The final layer of encoder will have 1 filter of size 3*3"
      ]
    },
    {
      "cell_type": "markdown",
      "metadata": {
        "id": "2pdOIBY-lGdh",
        "colab_type": "text"
      },
      "source": [
        "The max pooling layer will downsample the input by two times each time you use it, while the upsampling layer will upsample the input by two times each time it is used."
      ]
    },
    {
      "cell_type": "code",
      "metadata": {
        "id": "zQ8xgN6VlGdn",
        "colab_type": "code",
        "outputId": "501b742e-5fe7-4cc1-8063-08ec694b54fa",
        "colab": {
          "base_uri": "https://localhost:8080/",
          "height": 601
        }
      },
      "source": [
        "def autoencoder(input_img):\n",
        "    #Encoder\n",
        "    #input = 28 x 28 x 1 (wide and thin)\n",
        "    conv1 = Conv2D(32, (3,3), activation='relu', padding='same')(input_img) #28 x 28 x 32\n",
        "    pool1 = MaxPooling2D(pool_size=(2,2))(conv1) #14 x 14 x 32\n",
        "    conv2 = Conv2D(64, (3,3), activation='relu', padding='same')(pool1) #14 x 14 x 64\n",
        "    pool2 = MaxPooling2D(pool_size=(2,2))(conv2) #7 x 7 x 64\n",
        "    conv3 = Conv2D(128, (3,3), activation='relu', padding='same')(pool2) #7 x 7 x 128 (small and thick)\n",
        "    \n",
        "    #decoder\n",
        "    conv4 = Conv2D(128, (3,3), activation='relu', padding='same')(conv3) #7 x 7 x 128\n",
        "    up1 = UpSampling2D((2,2))(conv4) # 14 x 14 x 128\n",
        "    conv5 = Conv2D(64, (3,3), activation='relu', padding='same')(up1) #14 x 14 x 64\n",
        "    up2 = UpSampling2D((2,2))(conv5) # 28 x 28 x 64\n",
        "    decoded = Conv2D(1, (3,3), activation='sigmoid', padding='same')(up2) #28 x 28 x 1\n",
        "    return decoded\n",
        "\n",
        "autoencoder = Model(input_img, autoencoder(input_img))\n",
        "autoencoder.compile(loss='mean_squared_error', optimizer=RMSprop())\n",
        "\n",
        "autoencoder.summary()"
      ],
      "execution_count": 16,
      "outputs": [
        {
          "output_type": "stream",
          "text": [
            "WARNING:tensorflow:From /usr/local/lib/python3.6/dist-packages/tensorflow/python/framework/op_def_library.py:263: colocate_with (from tensorflow.python.framework.ops) is deprecated and will be removed in a future version.\n",
            "Instructions for updating:\n",
            "Colocations handled automatically by placer.\n",
            "_________________________________________________________________\n",
            "Layer (type)                 Output Shape              Param #   \n",
            "=================================================================\n",
            "input_1 (InputLayer)         (None, 28, 28, 1)         0         \n",
            "_________________________________________________________________\n",
            "conv2d_1 (Conv2D)            (None, 28, 28, 32)        320       \n",
            "_________________________________________________________________\n",
            "max_pooling2d_1 (MaxPooling2 (None, 14, 14, 32)        0         \n",
            "_________________________________________________________________\n",
            "conv2d_2 (Conv2D)            (None, 14, 14, 64)        18496     \n",
            "_________________________________________________________________\n",
            "max_pooling2d_2 (MaxPooling2 (None, 7, 7, 64)          0         \n",
            "_________________________________________________________________\n",
            "conv2d_3 (Conv2D)            (None, 7, 7, 128)         73856     \n",
            "_________________________________________________________________\n",
            "conv2d_4 (Conv2D)            (None, 7, 7, 128)         147584    \n",
            "_________________________________________________________________\n",
            "up_sampling2d_1 (UpSampling2 (None, 14, 14, 128)       0         \n",
            "_________________________________________________________________\n",
            "conv2d_5 (Conv2D)            (None, 14, 14, 64)        73792     \n",
            "_________________________________________________________________\n",
            "up_sampling2d_2 (UpSampling2 (None, 28, 28, 64)        0         \n",
            "_________________________________________________________________\n",
            "conv2d_6 (Conv2D)            (None, 28, 28, 1)         577       \n",
            "=================================================================\n",
            "Total params: 314,625\n",
            "Trainable params: 314,625\n",
            "Non-trainable params: 0\n",
            "_________________________________________________________________\n"
          ],
          "name": "stdout"
        }
      ]
    },
    {
      "cell_type": "code",
      "metadata": {
        "id": "A703NVFApR93",
        "colab_type": "code",
        "colab": {}
      },
      "source": [
        "# Train the Model"
      ],
      "execution_count": 0,
      "outputs": []
    },
    {
      "cell_type": "markdown",
      "metadata": {
        "id": "WbvUOZ9g_Db6",
        "colab_type": "text"
      },
      "source": [
        ""
      ]
    },
    {
      "cell_type": "code",
      "metadata": {
        "id": "y24AuDOAlGdt",
        "colab_type": "code",
        "colab": {
          "base_uri": "https://localhost:8080/",
          "height": 1839
        },
        "outputId": "d19a4310-f211-47e2-f404-533b829ccb6e"
      },
      "source": [
        "%%time\n",
        "#using GPU\n",
        "autoencoder_train = autoencoder.fit(train_x, train_ground, batch_size = batch_size,\n",
        "                                   epochs = epochs, verbose = 1, validation_data = (valid_x, valid_ground))"
      ],
      "execution_count": 18,
      "outputs": [
        {
          "output_type": "stream",
          "text": [
            "WARNING:tensorflow:From /usr/local/lib/python3.6/dist-packages/tensorflow/python/ops/math_ops.py:3066: to_int32 (from tensorflow.python.ops.math_ops) is deprecated and will be removed in a future version.\n",
            "Instructions for updating:\n",
            "Use tf.cast instead.\n",
            "Train on 48000 samples, validate on 12000 samples\n",
            "Epoch 1/50\n",
            "48000/48000 [==============================] - 15s 315us/step - loss: 0.0343 - val_loss: 0.0127\n",
            "Epoch 2/50\n",
            "48000/48000 [==============================] - 11s 230us/step - loss: 0.0101 - val_loss: 0.0100\n",
            "Epoch 3/50\n",
            "48000/48000 [==============================] - 11s 233us/step - loss: 0.0072 - val_loss: 0.0060\n",
            "Epoch 4/50\n",
            "48000/48000 [==============================] - 11s 236us/step - loss: 0.0057 - val_loss: 0.0053\n",
            "Epoch 5/50\n",
            "48000/48000 [==============================] - 11s 230us/step - loss: 0.0049 - val_loss: 0.0043\n",
            "Epoch 6/50\n",
            "48000/48000 [==============================] - 11s 230us/step - loss: 0.0043 - val_loss: 0.0043\n",
            "Epoch 7/50\n",
            "48000/48000 [==============================] - 11s 230us/step - loss: 0.0038 - val_loss: 0.0039\n",
            "Epoch 8/50\n",
            "48000/48000 [==============================] - 11s 230us/step - loss: 0.0035 - val_loss: 0.0032\n",
            "Epoch 9/50\n",
            "48000/48000 [==============================] - 11s 230us/step - loss: 0.0033 - val_loss: 0.0030\n",
            "Epoch 10/50\n",
            "48000/48000 [==============================] - 11s 229us/step - loss: 0.0031 - val_loss: 0.0027\n",
            "Epoch 11/50\n",
            "48000/48000 [==============================] - 11s 229us/step - loss: 0.0029 - val_loss: 0.0028\n",
            "Epoch 12/50\n",
            "48000/48000 [==============================] - 11s 230us/step - loss: 0.0028 - val_loss: 0.0033\n",
            "Epoch 13/50\n",
            "48000/48000 [==============================] - 11s 230us/step - loss: 0.0026 - val_loss: 0.0029\n",
            "Epoch 14/50\n",
            "48000/48000 [==============================] - 11s 230us/step - loss: 0.0025 - val_loss: 0.0025\n",
            "Epoch 15/50\n",
            "48000/48000 [==============================] - 11s 230us/step - loss: 0.0024 - val_loss: 0.0024\n",
            "Epoch 16/50\n",
            "48000/48000 [==============================] - 11s 230us/step - loss: 0.0024 - val_loss: 0.0023\n",
            "Epoch 17/50\n",
            "48000/48000 [==============================] - 11s 230us/step - loss: 0.0023 - val_loss: 0.0021\n",
            "Epoch 18/50\n",
            "48000/48000 [==============================] - 11s 229us/step - loss: 0.0022 - val_loss: 0.0023\n",
            "Epoch 19/50\n",
            "48000/48000 [==============================] - 11s 229us/step - loss: 0.0022 - val_loss: 0.0023\n",
            "Epoch 20/50\n",
            "48000/48000 [==============================] - 11s 230us/step - loss: 0.0021 - val_loss: 0.0024\n",
            "Epoch 21/50\n",
            "48000/48000 [==============================] - 11s 229us/step - loss: 0.0021 - val_loss: 0.0022\n",
            "Epoch 22/50\n",
            "48000/48000 [==============================] - 11s 230us/step - loss: 0.0021 - val_loss: 0.0020\n",
            "Epoch 23/50\n",
            "48000/48000 [==============================] - 11s 231us/step - loss: 0.0020 - val_loss: 0.0021\n",
            "Epoch 24/50\n",
            "48000/48000 [==============================] - 11s 229us/step - loss: 0.0020 - val_loss: 0.0024\n",
            "Epoch 25/50\n",
            "48000/48000 [==============================] - 11s 230us/step - loss: 0.0019 - val_loss: 0.0019\n",
            "Epoch 26/50\n",
            "48000/48000 [==============================] - 11s 229us/step - loss: 0.0019 - val_loss: 0.0019\n",
            "Epoch 27/50\n",
            "48000/48000 [==============================] - 11s 229us/step - loss: 0.0019 - val_loss: 0.0020\n",
            "Epoch 28/50\n",
            "48000/48000 [==============================] - 11s 229us/step - loss: 0.0019 - val_loss: 0.0020\n",
            "Epoch 29/50\n",
            "48000/48000 [==============================] - 11s 229us/step - loss: 0.0018 - val_loss: 0.0019\n",
            "Epoch 30/50\n",
            "48000/48000 [==============================] - 11s 230us/step - loss: 0.0018 - val_loss: 0.0019\n",
            "Epoch 31/50\n",
            "48000/48000 [==============================] - 11s 232us/step - loss: 0.0018 - val_loss: 0.0019\n",
            "Epoch 32/50\n",
            "48000/48000 [==============================] - 11s 231us/step - loss: 0.0018 - val_loss: 0.0019\n",
            "Epoch 33/50\n",
            "48000/48000 [==============================] - 11s 229us/step - loss: 0.0017 - val_loss: 0.0019\n",
            "Epoch 34/50\n",
            "48000/48000 [==============================] - 11s 229us/step - loss: 0.0017 - val_loss: 0.0017\n",
            "Epoch 35/50\n",
            "48000/48000 [==============================] - 11s 229us/step - loss: 0.0017 - val_loss: 0.0018\n",
            "Epoch 36/50\n",
            "48000/48000 [==============================] - 11s 230us/step - loss: 0.0017 - val_loss: 0.0019\n",
            "Epoch 37/50\n",
            "48000/48000 [==============================] - 11s 228us/step - loss: 0.0017 - val_loss: 0.0017\n",
            "Epoch 38/50\n",
            "48000/48000 [==============================] - 11s 225us/step - loss: 0.0017 - val_loss: 0.0017\n",
            "Epoch 39/50\n",
            "48000/48000 [==============================] - 11s 225us/step - loss: 0.0016 - val_loss: 0.0020\n",
            "Epoch 40/50\n",
            "48000/48000 [==============================] - 11s 225us/step - loss: 0.0016 - val_loss: 0.0019\n",
            "Epoch 41/50\n",
            "48000/48000 [==============================] - 11s 224us/step - loss: 0.0016 - val_loss: 0.0017\n",
            "Epoch 42/50\n",
            "48000/48000 [==============================] - 11s 224us/step - loss: 0.0016 - val_loss: 0.0016\n",
            "Epoch 43/50\n",
            "48000/48000 [==============================] - 11s 224us/step - loss: 0.0016 - val_loss: 0.0015\n",
            "Epoch 44/50\n",
            "48000/48000 [==============================] - 11s 224us/step - loss: 0.0016 - val_loss: 0.0017\n",
            "Epoch 45/50\n",
            "48000/48000 [==============================] - 11s 236us/step - loss: 0.0016 - val_loss: 0.0016\n",
            "Epoch 46/50\n",
            "48000/48000 [==============================] - 11s 225us/step - loss: 0.0015 - val_loss: 0.0018\n",
            "Epoch 47/50\n",
            "48000/48000 [==============================] - 11s 225us/step - loss: 0.0015 - val_loss: 0.0018\n",
            "Epoch 48/50\n",
            "48000/48000 [==============================] - 11s 224us/step - loss: 0.0015 - val_loss: 0.0016\n",
            "Epoch 49/50\n",
            "48000/48000 [==============================] - 11s 224us/step - loss: 0.0015 - val_loss: 0.0017\n",
            "Epoch 50/50\n",
            "48000/48000 [==============================] - 11s 226us/step - loss: 0.0015 - val_loss: 0.0015\n",
            "CPU times: user 6min 13s, sys: 2min 1s, total: 8min 14s\n",
            "Wall time: 9min 13s\n"
          ],
          "name": "stdout"
        }
      ]
    },
    {
      "cell_type": "code",
      "metadata": {
        "id": "5eTl8VM6bC60",
        "colab_type": "code",
        "colab": {}
      },
      "source": [
        "# Save entire model to a HDF5 file\n",
        "autoencoder.save('CNN Autoencoders in Keras.h5')"
      ],
      "execution_count": 0,
      "outputs": []
    },
    {
      "cell_type": "code",
      "metadata": {
        "id": "SISQwO4d_o0V",
        "colab_type": "code",
        "outputId": "1a5721a3-7ff1-4eb9-ffec-8fe9656e8424",
        "colab": {
          "base_uri": "https://localhost:8080/",
          "height": 269
        }
      },
      "source": [
        "loss = autoencoder_train.history['loss']\n",
        "val_loss = autoencoder_train.history['val_loss']\n",
        "epochs = range(epochs)\n",
        "plt.figure()\n",
        "plt.plot(epochs, loss, 'bo', label = 'Training loss')\n",
        "plt.plot(epochs, val_loss, 'b', label = 'Validation loss')\n",
        "plt.legend()\n",
        "plt.show()"
      ],
      "execution_count": 20,
      "outputs": [
        {
          "output_type": "display_data",
          "data": {
            "image/png": "[encoded data removed]",
            "text/plain": [
              "<Figure size 432x288 with 1 Axes>"
            ]
          },
          "metadata": {
            "tags": []
          }
        }
      ]
    },
    {
      "cell_type": "code",
      "metadata": {
        "id": "UdV5j6frCsCW",
        "colab_type": "code",
        "outputId": "cfc5969b-81a9-4cf7-e5b7-91fd22af2dc1",
        "colab": {
          "base_uri": "https://localhost:8080/",
          "height": 34
        }
      },
      "source": [
        "# Validation loss is in sync with Traininig loss. Hence no overfitting\n",
        "#The model's generalization capability is good \n",
        "\n",
        "#Reconstruct the test images using predict() function\n",
        "pred = autoencoder.predict(test_data)\n",
        "pred.shape"
      ],
      "execution_count": 21,
      "outputs": [
        {
          "output_type": "execute_result",
          "data": {
            "text/plain": [
              "(10000, 28, 28, 1)"
            ]
          },
          "metadata": {
            "tags": []
          },
          "execution_count": 21
        }
      ]
    },
    {
      "cell_type": "code",
      "metadata": {
        "id": "HOA7nZzzDhit",
        "colab_type": "code",
        "outputId": "45b0a1e8-f267-498d-ff4c-6af382763494",
        "colab": {
          "base_uri": "https://localhost:8080/",
          "height": 641
        }
      },
      "source": [
        "plt.figure (figsize = (20,4))\n",
        "print(\"Test Images\")\n",
        "for i in range(10):\n",
        "    plt.subplot(2, 10, i+1)\n",
        "    plt.imshow(test_data[i, ... , 0], cmap = 'gray')\n",
        "    curr_label = test_labels[i]\n",
        "    plt.title(\" ( Label : \" + str(label_dict[curr_label]) + \")\")\n",
        "plt.show()\n",
        "\n",
        "plt.figure (figsize = (20,4))\n",
        "print(\"Construction of Test Images\")\n",
        "for i in range(10):\n",
        "    plt.subplot(2, 10, i+1)\n",
        "    plt.imshow(pred[i, ... , 0], cmap = 'gray')\n",
        "plt.show()"
      ],
      "execution_count": 0,
      "outputs": [
        {
          "output_type": "stream",
          "text": [
            "Test Images\n"
          ],
          "name": "stdout"
        },
        {
          "output_type": "display_data",
          "data": {
            "image/png": "[encoded data removed]",
            "text/plain": [
              "<Figure size 1440x288 with 10 Axes>"
            ]
          },
          "metadata": {
            "tags": []
          }
        },
        {
          "output_type": "stream",
          "text": [
            "Construction of Test Images\n"
          ],
          "name": "stdout"
        },
        {
          "output_type": "display_data",
          "data": {
            "image/png": "[encoded data removed]",
            "text/plain": [
              "<Figure size 1440x288 with 10 Axes>"
            ]
          },
          "metadata": {
            "tags": []
          }
        }
      ]
    },
    {
      "cell_type": "code",
      "metadata": {
        "id": "Np7X_F4jE5Sz",
        "colab_type": "code",
        "colab": {}
      },
      "source": [
        "# Recreate the exact same model, including weights and optimizer.\n",
        "# new_model = keras.models.load_model('CNN Autoencoders in Keras.h5')\n",
        "# new_model.summary()"
      ],
      "execution_count": 0,
      "outputs": []
    },
    {
      "cell_type": "code",
      "metadata": {
        "id": "aq0_NDvFd8WJ",
        "colab_type": "code",
        "colab": {}
      },
      "source": [
        ""
      ],
      "execution_count": 0,
      "outputs": []
    },
    {
      "cell_type": "markdown",
      "metadata": {
        "id": "MvKJTM9ht5m9",
        "colab_type": "text"
      },
      "source": [
        "# Denoising Autoencoder"
      ]
    },
    {
      "cell_type": "markdown",
      "metadata": {
        "id": "FUK_KTTRt_ja",
        "colab_type": "text"
      },
      "source": [
        "A denoising autoencoder tries to learn a representation (latent- space or bottle neck) that is robust to noise. You add noise to an image and then feed the noisy image as an input to the encoder part of your network  The encoder part of the autoencoder transforms the image into a different space that ties to preserve the alphates but removes the noise."
      ]
    },
    {
      "cell_type": "markdown",
      "metadata": {
        "id": "O2OIAkSAvUEq",
        "colab_type": "text"
      },
      "source": [
        "# Implementation of Denoising Autoencoder"
      ]
    },
    {
      "cell_type": "code",
      "metadata": {
        "id": "yydc37VneJPN",
        "colab_type": "code",
        "colab": {}
      },
      "source": [
        "#Adding Noise to Images\n",
        "# Define a noise factor (hyperparameter)\n",
        "# To add noise, Noise factor is multiplied with a random matrix\n",
        "#that has a mean of 0.0 and standard deviation of 1.0. \n",
        "#np.clip () will threshold all the negative values to zero and all the values greater than 1 to 1.\n",
        "# Since we want all the pixel values between 0 to 1\n",
        "\n",
        "noise_factor = 0.5\n",
        "train_x_noisy = train_x + noise_factor * np.random.normal(loc = 0.0, scale = 1, size = train_x.shape)\n",
        "valid_x_noisy = valid_x + noise_factor * np.random.normal(loc = 0.0, scale = 1, size = valid_x.shape)\n",
        "test_x_noisy = test_data + noise_factor * np.random.normal(loc = 0.0, scale = 1, size = test_data.shape)\n",
        "\n",
        "train_x_noisy = np.clip(train_x_noisy, 0., 1.)\n",
        "valid_x_noisy = np.clip(valid_x_noisy, 0., 1.)\n",
        "test_x_noisy = np.clip(test_x_noisy, 0., 1,)"
      ],
      "execution_count": 0,
      "outputs": []
    },
    {
      "cell_type": "markdown",
      "metadata": {
        "id": "aVpveWsAMz9N",
        "colab_type": "text"
      },
      "source": [
        "# Visualizing the noisy images"
      ]
    },
    {
      "cell_type": "code",
      "metadata": {
        "id": "SLf5Pj6dJcPF",
        "colab_type": "code",
        "outputId": "7e6dc05b-9604-4fbe-e9b9-00ef5b95e9c4",
        "colab": {
          "base_uri": "https://localhost:8080/",
          "height": 195
        }
      },
      "source": [
        "plt.figure(figsize=[5,5])\n",
        "\n",
        "#Display the first image in training data\n",
        "plt.subplot(121)\n",
        "curr_img = np.reshape(train_x_noisy[1], (28,28))\n",
        "plt.imshow(curr_img, cmap = 'gray')\n",
        "\n",
        "#Display the first image in testing data \n",
        "plt.subplot(122)\n",
        "curr_img = np.reshape(test_x_noisy[1], (28,28))\n",
        "plt.imshow(curr_img, cmap = 'gray')"
      ],
      "execution_count": 0,
      "outputs": [
        {
          "output_type": "execute_result",
          "data": {
            "text/plain": [
              "<matplotlib.image.AxesImage at 0x7f682ec99908>"
            ]
          },
          "metadata": {
            "tags": []
          },
          "execution_count": 15
        },
        {
          "output_type": "display_data",
          "data": {
            "image/png": "[encoded data removed]",
            "text/plain": [
              "<Figure size 360x360 with 2 Axes>"
            ]
          },
          "metadata": {
            "tags": []
          }
        }
      ]
    },
    {
      "cell_type": "markdown",
      "metadata": {
        "id": "Bk36gmH0N0u4",
        "colab_type": "text"
      },
      "source": [
        "Feed the noisy data in the network\n",
        "\n",
        "#Denoising Autoencoder Network\n",
        "\n",
        "###Encoder\n",
        "#####The first layer will have 32 - 3*3 filters followed by a downsampling (max-pooling) layer\n",
        "#####The second layer will have 64 filters of 3*3 followed by another downsampling layer\n",
        "#####The final layer of encoder will have 128 filters of 3*3\n",
        "\n",
        "###Decoder\n",
        "\n",
        "#####The first layer will have 128 filters of 3*3 followed by a upsampling layer\n",
        "#####The second layer will have 64 filters of 3*3 followed by another upsampling layer\n",
        "#####The final layer of encoder will have 1 filter of size 3*3"
      ]
    },
    {
      "cell_type": "code",
      "metadata": {
        "id": "xdwf3toCKOhD",
        "colab_type": "code",
        "colab": {}
      },
      "source": [
        "batch_size = 128\n",
        "epochs = 20\n",
        "inChannel = 1\n",
        "x,y = 28, 28\n",
        "input_img = Input(shape = (x, y, inChannel))"
      ],
      "execution_count": 0,
      "outputs": []
    },
    {
      "cell_type": "code",
      "metadata": {
        "id": "V2Bx4eEGMWp3",
        "colab_type": "code",
        "outputId": "be731cc0-1356-443c-ff13-28bfb024ea97",
        "colab": {
          "base_uri": "https://localhost:8080/",
          "height": 510
        }
      },
      "source": [
        "def autoencoder(input_img):\n",
        "    #encoder\n",
        "    conv1 = Conv2D(32, (3,3), activation = 'relu', padding = 'same')(input_img)\n",
        "    pool1 = MaxPooling2D(pool_size = (2,2))(conv1)\n",
        "    conv2 = Conv2D(64, (3,3), activation = 'relu', padding = 'same')(pool1)\n",
        "    pool2 = MaxPooling2D(pool_size = (2,2))(conv2)\n",
        "    conv3 = Conv2D(128, (3,3), activation = 'relu', padding = 'same')(pool2)\n",
        "    \n",
        "    #decoder\n",
        "    conv4 = Conv2D(128, (3,3), activation = 'relu', padding = 'same')(conv3)\n",
        "    up1 = UpSampling2D((2,2))(conv4)\n",
        "    conv5 = Conv2D(64, (3,3), activation = 'relu', padding = 'same')(up1)\n",
        "    up2 = UpSampling2D((2,2))(conv5)\n",
        "    decoded = Conv2D(1, (3,3), activation = 'sigmoid', padding = 'same')(up2)\n",
        "    return decoded\n",
        "\n",
        "autoencoder = Model(input_img, autoencoder(input_img))\n",
        "autoencoder.compile(loss = 'mean_squared_error', optimizer = RMSprop())\n",
        "\n",
        "autoencoder.summary()"
      ],
      "execution_count": 0,
      "outputs": [
        {
          "output_type": "stream",
          "text": [
            "_________________________________________________________________\n",
            "Layer (type)                 Output Shape              Param #   \n",
            "=================================================================\n",
            "input_1 (InputLayer)         (None, 28, 28, 1)         0         \n",
            "_________________________________________________________________\n",
            "conv2d_8 (Conv2D)            (None, 28, 28, 32)        320       \n",
            "_________________________________________________________________\n",
            "max_pooling2d_3 (MaxPooling2 (None, 14, 14, 32)        0         \n",
            "_________________________________________________________________\n",
            "conv2d_9 (Conv2D)            (None, 14, 14, 64)        18496     \n",
            "_________________________________________________________________\n",
            "max_pooling2d_4 (MaxPooling2 (None, 7, 7, 64)          0         \n",
            "_________________________________________________________________\n",
            "conv2d_10 (Conv2D)           (None, 7, 7, 128)         73856     \n",
            "_________________________________________________________________\n",
            "conv2d_11 (Conv2D)           (None, 7, 7, 128)         147584    \n",
            "_________________________________________________________________\n",
            "up_sampling2d_3 (UpSampling2 (None, 14, 14, 128)       0         \n",
            "_________________________________________________________________\n",
            "conv2d_12 (Conv2D)           (None, 14, 14, 64)        73792     \n",
            "_________________________________________________________________\n",
            "up_sampling2d_4 (UpSampling2 (None, 28, 28, 64)        0         \n",
            "_________________________________________________________________\n",
            "conv2d_13 (Conv2D)           (None, 28, 28, 1)         577       \n",
            "=================================================================\n",
            "Total params: 314,625\n",
            "Trainable params: 314,625\n",
            "Non-trainable params: 0\n",
            "_________________________________________________________________\n"
          ],
          "name": "stdout"
        }
      ]
    },
    {
      "cell_type": "markdown",
      "metadata": {
        "id": "C5mCWnEbUX1C",
        "colab_type": "text"
      },
      "source": [
        "# Training\n",
        "\n",
        "In convolution autoencoder, we feed the training images twice since the input and the ground truth were both same\n",
        "\n",
        "\n",
        "In denoising autoencoder, we feed the noisy images as input while  ground truth remains the denoisy iamges on which we applied the noise\n"
      ]
    },
    {
      "cell_type": "code",
      "metadata": {
        "id": "WCxZhqCjT-NY",
        "colab_type": "code",
        "outputId": "cccbd6f6-cb52-4b00-ef62-a7984e84ee8d",
        "colab": {
          "base_uri": "https://localhost:8080/",
          "height": 1020
        }
      },
      "source": [
        "autoencoder_train = autoencoder.fit(train_x_noisy, train_x, batch_size = batch_size,\n",
        "                                   epochs=epochs, verbose = 1, validation_data=(valid_x_noisy, valid_x))"
      ],
      "execution_count": 0,
      "outputs": [
        {
          "output_type": "stream",
          "text": [
            "WARNING:tensorflow:From /usr/local/lib/python3.6/dist-packages/tensorflow/python/ops/math_ops.py:3066: to_int32 (from tensorflow.python.ops.math_ops) is deprecated and will be removed in a future version.\n",
            "Instructions for updating:\n",
            "Use tf.cast instead.\n",
            "Train on 48000 samples, validate on 12000 samples\n",
            "Epoch 1/20\n",
            "48000/48000 [==============================] - 8s 165us/step - loss: 0.0519 - val_loss: 0.0287\n",
            "Epoch 2/20\n",
            "48000/48000 [==============================] - 5s 108us/step - loss: 0.0242 - val_loss: 0.0210\n",
            "Epoch 3/20\n",
            "48000/48000 [==============================] - 5s 108us/step - loss: 0.0207 - val_loss: 0.0244\n",
            "Epoch 4/20\n",
            "48000/48000 [==============================] - 5s 109us/step - loss: 0.0190 - val_loss: 0.0189\n",
            "Epoch 5/20\n",
            "48000/48000 [==============================] - 5s 108us/step - loss: 0.0179 - val_loss: 0.0195\n",
            "Epoch 6/20\n",
            "48000/48000 [==============================] - 5s 109us/step - loss: 0.0171 - val_loss: 0.0174\n",
            "Epoch 7/20\n",
            "48000/48000 [==============================] - 5s 109us/step - loss: 0.0165 - val_loss: 0.0176\n",
            "Epoch 8/20\n",
            "48000/48000 [==============================] - 5s 110us/step - loss: 0.0161 - val_loss: 0.0170\n",
            "Epoch 9/20\n",
            "48000/48000 [==============================] - 5s 109us/step - loss: 0.0157 - val_loss: 0.0162\n",
            "Epoch 10/20\n",
            "48000/48000 [==============================] - 5s 110us/step - loss: 0.0154 - val_loss: 0.0163\n",
            "Epoch 11/20\n",
            "48000/48000 [==============================] - 5s 109us/step - loss: 0.0151 - val_loss: 0.0158\n",
            "Epoch 12/20\n",
            "48000/48000 [==============================] - 5s 110us/step - loss: 0.0149 - val_loss: 0.0155\n",
            "Epoch 13/20\n",
            "48000/48000 [==============================] - 5s 110us/step - loss: 0.0146 - val_loss: 0.0153\n",
            "Epoch 14/20\n",
            "48000/48000 [==============================] - 5s 110us/step - loss: 0.0145 - val_loss: 0.0154\n",
            "Epoch 15/20\n",
            "48000/48000 [==============================] - 5s 110us/step - loss: 0.0143 - val_loss: 0.0153\n",
            "Epoch 16/20\n",
            "48000/48000 [==============================] - 5s 111us/step - loss: 0.0142 - val_loss: 0.0156\n",
            "Epoch 17/20\n",
            "48000/48000 [==============================] - 5s 111us/step - loss: 0.0140 - val_loss: 0.0151\n",
            "Epoch 18/20\n",
            "48000/48000 [==============================] - 5s 110us/step - loss: 0.0139 - val_loss: 0.0154\n",
            "Epoch 19/20\n",
            "48000/48000 [==============================] - 5s 110us/step - loss: 0.0138 - val_loss: 0.0154\n",
            "Epoch 20/20\n",
            "48000/48000 [==============================] - 5s 109us/step - loss: 0.0137 - val_loss: 0.0152\n"
          ],
          "name": "stdout"
        }
      ]
    },
    {
      "cell_type": "code",
      "metadata": {
        "id": "IBIwSUR9V8Us",
        "colab_type": "code",
        "outputId": "a86387a5-c3c1-4503-bbc5-8f020ec37792",
        "colab": {
          "base_uri": "https://localhost:8080/",
          "height": 281
        }
      },
      "source": [
        "# Train verus Validation Loss Plot\n",
        "loss = autoencoder_train.history['loss']\n",
        "val_loss = autoencoder_train.history['val_loss']\n",
        "epochs = range(epochs)\n",
        "plt.figure()\n",
        "plt.plot(epochs, loss, 'bo', label = 'Training loss')\n",
        "plt.plot(epochs, val_loss, 'b', label = 'Validation loss')\n",
        "plt.title('Training and Validation loss')\n",
        "plt.legend()\n",
        "plt.show()"
      ],
      "execution_count": 0,
      "outputs": [
        {
          "output_type": "display_data",
          "data": {
            "image/png": "[encoded data removed]",
            "text/plain": [
              "<Figure size 432x288 with 1 Axes>"
            ]
          },
          "metadata": {
            "tags": []
          }
        }
      ]
    },
    {
      "cell_type": "code",
      "metadata": {
        "id": "Cu45FVqHY1A3",
        "colab_type": "code",
        "colab": {}
      },
      "source": [
        "#save this model\n",
        "autoencoder.save('Denoising Autoencoder Model.h5')"
      ],
      "execution_count": 0,
      "outputs": []
    },
    {
      "cell_type": "markdown",
      "metadata": {
        "id": "_rgd8xwJYqKJ",
        "colab_type": "text"
      },
      "source": [
        "# Predicting on Test dataset"
      ]
    },
    {
      "cell_type": "code",
      "metadata": {
        "id": "U7tsWLDfW54l",
        "colab_type": "code",
        "colab": {}
      },
      "source": [
        "pred = autoencoder.predict(test_x_noisy)"
      ],
      "execution_count": 0,
      "outputs": []
    },
    {
      "cell_type": "code",
      "metadata": {
        "id": "rB_8knjXZcJs",
        "colab_type": "code",
        "outputId": "5e305073-f3b2-4d4d-ef60-7361d654d1e7",
        "colab": {
          "base_uri": "https://localhost:8080/",
          "height": 527
        }
      },
      "source": [
        "plt.figure(figsize=(20, 4))\n",
        "print(\"Test Image\")\n",
        "for i in range (10, 20, 1):\n",
        "    plt.subplot(2, 10, i+1)\n",
        "    plt.imshow(test_data[i, ..., 0], cmap = 'gray')\n",
        "    curr_lbl = test_labels[i]\n",
        "    plt.title(\"(Label : \" + str(label_dict[curr_lbl]) + \")\")\n",
        "plt.show()\n",
        "\n",
        "plt.figure(figsize=(20, 4))\n",
        "print(\"Test Images with Noise\")\n",
        "for i in range (10, 20, 1):\n",
        "    plt.subplot(2, 10, i+1)\n",
        "    plt.imshow(test_x_noisy[i, ..., 0], cmap = 'gray')\n",
        "plt.show()\n",
        "\n",
        "plt.figure(figsize= (20, 4))\n",
        "print(\"Reconstruction of Noisy Test Images\")\n",
        "for i in range(10, 20, 1):\n",
        "    plt.subplot(2, 10, i+1)\n",
        "    plt.imshow(pred[i, ..., 0], cmap = 'gray')\n",
        "plt.show()"
      ],
      "execution_count": 0,
      "outputs": [
        {
          "output_type": "stream",
          "text": [
            "Test Image\n"
          ],
          "name": "stdout"
        },
        {
          "output_type": "display_data",
          "data": {
            "image/png": "[encoded data removed]",
            "text/plain": [
              "<Figure size 1440x288 with 10 Axes>"
            ]
          },
          "metadata": {
            "tags": []
          }
        },
        {
          "output_type": "stream",
          "text": [
            "test Images with Noise\n"
          ],
          "name": "stdout"
        },
        {
          "output_type": "display_data",
          "data": {
            "image/png": "[encoded data removed]",
            "text/plain": [
              "<Figure size 1440x288 with 10 Axes>"
            ]
          },
          "metadata": {
            "tags": []
          }
        },
        {
          "output_type": "stream",
          "text": [
            "Reconstruction of Noisy Test Images\n"
          ],
          "name": "stdout"
        },
        {
          "output_type": "display_data",
          "data": {
            "image/png": "[encoded data removed]",
            "text/plain": [
              "<Figure size 1440x288 with 10 Axes>"
            ]
          },
          "metadata": {
            "tags": []
          }
        }
      ]
    },
    {
      "cell_type": "code",
      "metadata": {
        "id": "_4qfZlM6b04H",
        "colab_type": "code",
        "colab": {}
      },
      "source": [
        ""
      ],
      "execution_count": 0,
      "outputs": []
    }
  ]
}